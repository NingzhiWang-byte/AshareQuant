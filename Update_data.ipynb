{
 "cells": [
  {
   "cell_type": "code",
   "execution_count": null,
   "id": "f743b9fc",
   "metadata": {},
   "outputs": [],
   "source": [
    "###### 从官方网站下载数据（比较慢）\n",
    "\n",
    "import efinance as ef\n",
    "import pandas as pd\n",
    "import numpy as np\n",
    "import pickle\n",
    "from pandas.tseries.offsets import BDay\n",
    "\n",
    "# 获取所有 A 股上市公司的代码\n",
    "all_stocks = ef.stock.get_realtime_quotes()\n",
    "# 转化成list\n",
    "stock_list = list(all_stocks['股票代码'])\n",
    "\n",
    "\n",
    "# 获取最新的股票数据\n",
    "beg_date = '20230101' # 开始日期\n",
    "end_date = str(input('更新数据到当天的前一天：（例：20231129）'))\n",
    "\n",
    "df_items = ef.stock.get_quote_history(stock_list,beg=beg_date,end=end_date)"
   ]
  },
  {
   "cell_type": "code",
   "execution_count": null,
   "id": "8b02d2a0",
   "metadata": {},
   "outputs": [],
   "source": [
    "###### 整理数据\n",
    "\n",
    "new_df = pd.concat(df_items.values(), axis=0)\n",
    "new_df['日期'] = pd.to_datetime(new_df['日期'], format='%Y-%m-%d')\n",
    "new_df.sort_values(by=['股票代码', '日期'], inplace=True)\n",
    "\n",
    "with open('new_total_df.pkl', 'wb') as file:\n",
    "    pickle.dump(new_df, file)\n"
   ]
  }
 ],
 "metadata": {
  "kernelspec": {
   "display_name": "Python 3",
   "language": "python",
   "name": "python3"
  },
  "language_info": {
   "codemirror_mode": {
    "name": "ipython",
    "version": 3
   },
   "file_extension": ".py",
   "mimetype": "text/x-python",
   "name": "python",
   "nbconvert_exporter": "python",
   "pygments_lexer": "ipython3",
   "version": "3.8.8"
  },
  "toc": {
   "base_numbering": 1,
   "nav_menu": {},
   "number_sections": true,
   "sideBar": true,
   "skip_h1_title": false,
   "title_cell": "Table of Contents",
   "title_sidebar": "Contents",
   "toc_cell": false,
   "toc_position": {},
   "toc_section_display": true,
   "toc_window_display": false
  }
 },
 "nbformat": 4,
 "nbformat_minor": 5
}
